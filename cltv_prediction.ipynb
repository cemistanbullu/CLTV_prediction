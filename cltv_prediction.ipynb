{
 "cells": [
  {
   "cell_type": "code",
   "execution_count": 6,
   "metadata": {},
   "outputs": [],
   "source": [
    "import datetime as dt\n",
    "import pandas as pd\n",
    "import matplotlib.pyplot as plt\n",
    "from lifetimes import BetaGeoFitter\n",
    "from lifetimes import GammaGammaFitter\n",
    "from lifetimes.plotting import plot_period_transactions"
   ]
  },
  {
   "cell_type": "code",
   "execution_count": 5,
   "metadata": {},
   "outputs": [],
   "source": [
    "pd.set_option('display.max_columns', None)\n",
    "pd.set_option('display.max_rows', None)\n",
    "pd.set_option('display.float_format', lambda x: '%.5f' % x)"
   ]
  },
  {
   "cell_type": "code",
   "execution_count": 3,
   "metadata": {},
   "outputs": [],
   "source": [
    "df_ = pd.read_excel(\"online_retail_II.xlsx\",\n",
    "                    sheet_name=\"Year 2010-2011\")"
   ]
  },
  {
   "cell_type": "code",
   "execution_count": 4,
   "metadata": {},
   "outputs": [],
   "source": [
    "df = df_.copy()"
   ]
  },
  {
   "cell_type": "code",
   "execution_count": 7,
   "metadata": {},
   "outputs": [],
   "source": [
    "def outlier_thresholds(dataframe, variable):\n",
    "    quartile1 = dataframe[variable].quantile(0.01)\n",
    "    quartile3 = dataframe[variable].quantile(0.99)\n",
    "    interquantile_range = quartile3 - quartile1\n",
    "    up_limit = quartile3 + 1.5 * interquantile_range\n",
    "    low_limit = quartile1 - 1.5 * interquantile_range\n",
    "    return low_limit, up_limit"
   ]
  },
  {
   "cell_type": "code",
   "execution_count": 8,
   "metadata": {},
   "outputs": [],
   "source": [
    "def replace_with_thresholds(dataframe, variable):\n",
    "    low_limit, up_limit = outlier_thresholds(dataframe, variable)\n",
    "    # dataframe.loc[(dataframe[variable] < low_limit), variable] = low_limit\n",
    "    dataframe.loc[(dataframe[variable] > up_limit), variable] = up_limit"
   ]
  },
  {
   "cell_type": "code",
   "execution_count": 9,
   "metadata": {},
   "outputs": [
    {
     "data": {
      "text/html": [
       "<div>\n",
       "<style scoped>\n",
       "    .dataframe tbody tr th:only-of-type {\n",
       "        vertical-align: middle;\n",
       "    }\n",
       "\n",
       "    .dataframe tbody tr th {\n",
       "        vertical-align: top;\n",
       "    }\n",
       "\n",
       "    .dataframe thead th {\n",
       "        text-align: right;\n",
       "    }\n",
       "</style>\n",
       "<table border=\"1\" class=\"dataframe\">\n",
       "  <thead>\n",
       "    <tr style=\"text-align: right;\">\n",
       "      <th></th>\n",
       "      <th>count</th>\n",
       "      <th>mean</th>\n",
       "      <th>std</th>\n",
       "      <th>min</th>\n",
       "      <th>25%</th>\n",
       "      <th>50%</th>\n",
       "      <th>75%</th>\n",
       "      <th>max</th>\n",
       "    </tr>\n",
       "  </thead>\n",
       "  <tbody>\n",
       "    <tr>\n",
       "      <th>Quantity</th>\n",
       "      <td>541910.00000</td>\n",
       "      <td>9.55223</td>\n",
       "      <td>218.08096</td>\n",
       "      <td>-80995.00000</td>\n",
       "      <td>1.00000</td>\n",
       "      <td>3.00000</td>\n",
       "      <td>10.00000</td>\n",
       "      <td>80995.00000</td>\n",
       "    </tr>\n",
       "    <tr>\n",
       "      <th>Price</th>\n",
       "      <td>541910.00000</td>\n",
       "      <td>4.61114</td>\n",
       "      <td>96.75977</td>\n",
       "      <td>-11062.06000</td>\n",
       "      <td>1.25000</td>\n",
       "      <td>2.08000</td>\n",
       "      <td>4.13000</td>\n",
       "      <td>38970.00000</td>\n",
       "    </tr>\n",
       "    <tr>\n",
       "      <th>Customer ID</th>\n",
       "      <td>406830.00000</td>\n",
       "      <td>15287.68416</td>\n",
       "      <td>1713.60307</td>\n",
       "      <td>12346.00000</td>\n",
       "      <td>13953.00000</td>\n",
       "      <td>15152.00000</td>\n",
       "      <td>16791.00000</td>\n",
       "      <td>18287.00000</td>\n",
       "    </tr>\n",
       "  </tbody>\n",
       "</table>\n",
       "</div>"
      ],
      "text/plain": [
       "                   count        mean        std          min         25%  \\\n",
       "Quantity    541910.00000     9.55223  218.08096 -80995.00000     1.00000   \n",
       "Price       541910.00000     4.61114   96.75977 -11062.06000     1.25000   \n",
       "Customer ID 406830.00000 15287.68416 1713.60307  12346.00000 13953.00000   \n",
       "\n",
       "                    50%         75%         max  \n",
       "Quantity        3.00000    10.00000 80995.00000  \n",
       "Price           2.08000     4.13000 38970.00000  \n",
       "Customer ID 15152.00000 16791.00000 18287.00000  "
      ]
     },
     "execution_count": 9,
     "metadata": {},
     "output_type": "execute_result"
    }
   ],
   "source": [
    "df.describe().T"
   ]
  },
  {
   "cell_type": "code",
   "execution_count": 10,
   "metadata": {},
   "outputs": [],
   "source": [
    "df.dropna(inplace=True)\n",
    "df = df[~df[\"Invoice\"].str.contains(\"C\", na=False)]\n",
    "df = df[df[\"Quantity\"] > 0]"
   ]
  },
  {
   "cell_type": "code",
   "execution_count": 11,
   "metadata": {},
   "outputs": [
    {
     "data": {
      "text/html": [
       "<div>\n",
       "<style scoped>\n",
       "    .dataframe tbody tr th:only-of-type {\n",
       "        vertical-align: middle;\n",
       "    }\n",
       "\n",
       "    .dataframe tbody tr th {\n",
       "        vertical-align: top;\n",
       "    }\n",
       "\n",
       "    .dataframe thead th {\n",
       "        text-align: right;\n",
       "    }\n",
       "</style>\n",
       "<table border=\"1\" class=\"dataframe\">\n",
       "  <thead>\n",
       "    <tr style=\"text-align: right;\">\n",
       "      <th></th>\n",
       "      <th>count</th>\n",
       "      <th>mean</th>\n",
       "      <th>std</th>\n",
       "      <th>min</th>\n",
       "      <th>25%</th>\n",
       "      <th>50%</th>\n",
       "      <th>75%</th>\n",
       "      <th>max</th>\n",
       "    </tr>\n",
       "  </thead>\n",
       "  <tbody>\n",
       "    <tr>\n",
       "      <th>Quantity</th>\n",
       "      <td>397925.00000</td>\n",
       "      <td>11.83371</td>\n",
       "      <td>25.53449</td>\n",
       "      <td>1.00000</td>\n",
       "      <td>2.00000</td>\n",
       "      <td>6.00000</td>\n",
       "      <td>12.00000</td>\n",
       "      <td>298.50000</td>\n",
       "    </tr>\n",
       "    <tr>\n",
       "      <th>Price</th>\n",
       "      <td>397925.00000</td>\n",
       "      <td>2.89320</td>\n",
       "      <td>3.22714</td>\n",
       "      <td>0.00000</td>\n",
       "      <td>1.25000</td>\n",
       "      <td>1.95000</td>\n",
       "      <td>3.75000</td>\n",
       "      <td>37.06000</td>\n",
       "    </tr>\n",
       "    <tr>\n",
       "      <th>Customer ID</th>\n",
       "      <td>397925.00000</td>\n",
       "      <td>15294.30860</td>\n",
       "      <td>1713.17274</td>\n",
       "      <td>12346.00000</td>\n",
       "      <td>13969.00000</td>\n",
       "      <td>15159.00000</td>\n",
       "      <td>16795.00000</td>\n",
       "      <td>18287.00000</td>\n",
       "    </tr>\n",
       "  </tbody>\n",
       "</table>\n",
       "</div>"
      ],
      "text/plain": [
       "                   count        mean        std         min         25%  \\\n",
       "Quantity    397925.00000    11.83371   25.53449     1.00000     2.00000   \n",
       "Price       397925.00000     2.89320    3.22714     0.00000     1.25000   \n",
       "Customer ID 397925.00000 15294.30860 1713.17274 12346.00000 13969.00000   \n",
       "\n",
       "                    50%         75%         max  \n",
       "Quantity        6.00000    12.00000   298.50000  \n",
       "Price           1.95000     3.75000    37.06000  \n",
       "Customer ID 15159.00000 16795.00000 18287.00000  "
      ]
     },
     "execution_count": 11,
     "metadata": {},
     "output_type": "execute_result"
    }
   ],
   "source": [
    "replace_with_thresholds(df, \"Quantity\")\n",
    "replace_with_thresholds(df, \"Price\")\n",
    "df.describe().T"
   ]
  },
  {
   "cell_type": "code",
   "execution_count": 12,
   "metadata": {},
   "outputs": [],
   "source": [
    "df[\"TotalPrice\"] = df[\"Quantity\"] * df[\"Price\"]"
   ]
  },
  {
   "cell_type": "code",
   "execution_count": 13,
   "metadata": {},
   "outputs": [],
   "source": [
    "today_date = dt.datetime(2011, 12, 11)"
   ]
  },
  {
   "cell_type": "code",
   "execution_count": 14,
   "metadata": {},
   "outputs": [],
   "source": [
    "rfm = df.groupby('Customer ID').agg({'InvoiceDate': [lambda date: (today_date - date.max()).days,\n",
    "                                                     lambda date: (today_date - date.min()).days],\n",
    "                                     'Invoice': lambda num: num.nunique(),\n",
    "                                     'TotalPrice': lambda price: price.sum()})"
   ]
  },
  {
   "cell_type": "code",
   "execution_count": 15,
   "metadata": {},
   "outputs": [
    {
     "data": {
      "text/html": [
       "<div>\n",
       "<style scoped>\n",
       "    .dataframe tbody tr th:only-of-type {\n",
       "        vertical-align: middle;\n",
       "    }\n",
       "\n",
       "    .dataframe tbody tr th {\n",
       "        vertical-align: top;\n",
       "    }\n",
       "\n",
       "    .dataframe thead th {\n",
       "        text-align: right;\n",
       "    }\n",
       "</style>\n",
       "<table border=\"1\" class=\"dataframe\">\n",
       "  <thead>\n",
       "    <tr style=\"text-align: right;\">\n",
       "      <th></th>\n",
       "      <th>Recency</th>\n",
       "      <th>T</th>\n",
       "      <th>Frequency</th>\n",
       "      <th>Monetary</th>\n",
       "    </tr>\n",
       "    <tr>\n",
       "      <th>Customer ID</th>\n",
       "      <th></th>\n",
       "      <th></th>\n",
       "      <th></th>\n",
       "      <th></th>\n",
       "    </tr>\n",
       "  </thead>\n",
       "  <tbody>\n",
       "    <tr>\n",
       "      <th>12346.00000</th>\n",
       "      <td>326</td>\n",
       "      <td>326</td>\n",
       "      <td>1</td>\n",
       "      <td>310.44000</td>\n",
       "    </tr>\n",
       "    <tr>\n",
       "      <th>12347.00000</th>\n",
       "      <td>3</td>\n",
       "      <td>368</td>\n",
       "      <td>7</td>\n",
       "      <td>4310.00000</td>\n",
       "    </tr>\n",
       "    <tr>\n",
       "      <th>12348.00000</th>\n",
       "      <td>76</td>\n",
       "      <td>359</td>\n",
       "      <td>4</td>\n",
       "      <td>1770.78000</td>\n",
       "    </tr>\n",
       "    <tr>\n",
       "      <th>12349.00000</th>\n",
       "      <td>19</td>\n",
       "      <td>19</td>\n",
       "      <td>1</td>\n",
       "      <td>1491.72000</td>\n",
       "    </tr>\n",
       "    <tr>\n",
       "      <th>12350.00000</th>\n",
       "      <td>311</td>\n",
       "      <td>311</td>\n",
       "      <td>1</td>\n",
       "      <td>331.46000</td>\n",
       "    </tr>\n",
       "  </tbody>\n",
       "</table>\n",
       "</div>"
      ],
      "text/plain": [
       "             Recency    T  Frequency   Monetary\n",
       "Customer ID                                    \n",
       "12346.00000      326  326          1  310.44000\n",
       "12347.00000        3  368          7 4310.00000\n",
       "12348.00000       76  359          4 1770.78000\n",
       "12349.00000       19   19          1 1491.72000\n",
       "12350.00000      311  311          1  331.46000"
      ]
     },
     "execution_count": 15,
     "metadata": {},
     "output_type": "execute_result"
    }
   ],
   "source": [
    "rfm.columns = rfm.columns.droplevel(0)\n",
    "rfm.columns = ['Recency', \"T\", 'Frequency', \"Monetary\"]\n",
    "rfm.head()"
   ]
  },
  {
   "cell_type": "code",
   "execution_count": 17,
   "metadata": {},
   "outputs": [
    {
     "data": {
      "text/html": [
       "<div>\n",
       "<style scoped>\n",
       "    .dataframe tbody tr th:only-of-type {\n",
       "        vertical-align: middle;\n",
       "    }\n",
       "\n",
       "    .dataframe tbody tr th {\n",
       "        vertical-align: top;\n",
       "    }\n",
       "\n",
       "    .dataframe thead tr th {\n",
       "        text-align: left;\n",
       "    }\n",
       "\n",
       "    .dataframe thead tr:last-of-type th {\n",
       "        text-align: right;\n",
       "    }\n",
       "</style>\n",
       "<table border=\"1\" class=\"dataframe\">\n",
       "  <thead>\n",
       "    <tr>\n",
       "      <th></th>\n",
       "      <th></th>\n",
       "      <th>Invoice</th>\n",
       "      <th>TotalPrice</th>\n",
       "    </tr>\n",
       "    <tr>\n",
       "      <th></th>\n",
       "      <th></th>\n",
       "      <th>count</th>\n",
       "      <th>mean</th>\n",
       "    </tr>\n",
       "    <tr>\n",
       "      <th>Customer ID</th>\n",
       "      <th>Invoice</th>\n",
       "      <th></th>\n",
       "      <th></th>\n",
       "    </tr>\n",
       "  </thead>\n",
       "  <tbody>\n",
       "    <tr>\n",
       "      <th>12346.00000</th>\n",
       "      <th>541431</th>\n",
       "      <td>1</td>\n",
       "      <td>310.44000</td>\n",
       "    </tr>\n",
       "    <tr>\n",
       "      <th rowspan=\"4\" valign=\"top\">12347.00000</th>\n",
       "      <th>537626</th>\n",
       "      <td>31</td>\n",
       "      <td>22.96097</td>\n",
       "    </tr>\n",
       "    <tr>\n",
       "      <th>542237</th>\n",
       "      <td>29</td>\n",
       "      <td>16.39276</td>\n",
       "    </tr>\n",
       "    <tr>\n",
       "      <th>549222</th>\n",
       "      <td>24</td>\n",
       "      <td>26.51042</td>\n",
       "    </tr>\n",
       "    <tr>\n",
       "      <th>556201</th>\n",
       "      <td>18</td>\n",
       "      <td>21.25111</td>\n",
       "    </tr>\n",
       "  </tbody>\n",
       "</table>\n",
       "</div>"
      ],
      "text/plain": [
       "                    Invoice TotalPrice\n",
       "                      count       mean\n",
       "Customer ID Invoice                   \n",
       "12346.00000 541431        1  310.44000\n",
       "12347.00000 537626       31   22.96097\n",
       "            542237       29   16.39276\n",
       "            549222       24   26.51042\n",
       "            556201       18   21.25111"
      ]
     },
     "execution_count": 17,
     "metadata": {},
     "output_type": "execute_result"
    }
   ],
   "source": [
    "temp_df = df.groupby([\"Customer ID\", \"Invoice\"]).agg({\"Invoice\": \"count\", \"TotalPrice\": [\"mean\"]})\n",
    "temp_df.head()"
   ]
  },
  {
   "cell_type": "code",
   "execution_count": 18,
   "metadata": {},
   "outputs": [],
   "source": [
    "temp_df = temp_df.reset_index()\n",
    "temp_df.columns = temp_df.columns.droplevel(0)\n",
    "temp_df.columns = [\"Customer ID\", \"Invoice\", \"total_price_count\", \"total_price_mean\"]"
   ]
  },
  {
   "cell_type": "code",
   "execution_count": 19,
   "metadata": {},
   "outputs": [
    {
     "data": {
      "text/html": [
       "<div>\n",
       "<style scoped>\n",
       "    .dataframe tbody tr th:only-of-type {\n",
       "        vertical-align: middle;\n",
       "    }\n",
       "\n",
       "    .dataframe tbody tr th {\n",
       "        vertical-align: top;\n",
       "    }\n",
       "\n",
       "    .dataframe thead tr th {\n",
       "        text-align: left;\n",
       "    }\n",
       "</style>\n",
       "<table border=\"1\" class=\"dataframe\">\n",
       "  <thead>\n",
       "    <tr>\n",
       "      <th></th>\n",
       "      <th>Customer ID</th>\n",
       "      <th>total_price_mean</th>\n",
       "    </tr>\n",
       "    <tr>\n",
       "      <th></th>\n",
       "      <th></th>\n",
       "      <th>mean</th>\n",
       "    </tr>\n",
       "  </thead>\n",
       "  <tbody>\n",
       "    <tr>\n",
       "      <th>0</th>\n",
       "      <td>12346.00000</td>\n",
       "      <td>310.44000</td>\n",
       "    </tr>\n",
       "    <tr>\n",
       "      <th>1</th>\n",
       "      <td>12347.00000</td>\n",
       "      <td>23.09700</td>\n",
       "    </tr>\n",
       "    <tr>\n",
       "      <th>2</th>\n",
       "      <td>12348.00000</td>\n",
       "      <td>66.01550</td>\n",
       "    </tr>\n",
       "    <tr>\n",
       "      <th>3</th>\n",
       "      <td>12349.00000</td>\n",
       "      <td>20.43452</td>\n",
       "    </tr>\n",
       "    <tr>\n",
       "      <th>4</th>\n",
       "      <td>12350.00000</td>\n",
       "      <td>19.49765</td>\n",
       "    </tr>\n",
       "  </tbody>\n",
       "</table>\n",
       "</div>"
      ],
      "text/plain": [
       "  Customer ID total_price_mean\n",
       "                          mean\n",
       "0 12346.00000        310.44000\n",
       "1 12347.00000         23.09700\n",
       "2 12348.00000         66.01550\n",
       "3 12349.00000         20.43452\n",
       "4 12350.00000         19.49765"
      ]
     },
     "execution_count": 19,
     "metadata": {},
     "output_type": "execute_result"
    }
   ],
   "source": [
    "temp_df2 = temp_df.groupby([\"Customer ID\"], as_index=False).agg({\"total_price_mean\": [\"mean\"]})\n",
    "temp_df2.head()"
   ]
  },
  {
   "cell_type": "code",
   "execution_count": 20,
   "metadata": {},
   "outputs": [],
   "source": [
    "temp_df2.columns = temp_df2.columns.droplevel(0)\n",
    "temp_df2.columns = [\"Customer ID\", \"monetary_avg\"]"
   ]
  },
  {
   "cell_type": "code",
   "execution_count": 21,
   "metadata": {},
   "outputs": [
    {
     "data": {
      "text/plain": [
       "True"
      ]
     },
     "execution_count": 21,
     "metadata": {},
     "output_type": "execute_result"
    }
   ],
   "source": [
    "rfm.index.isin(temp_df2[\"Customer ID\"]).all()"
   ]
  },
  {
   "cell_type": "code",
   "execution_count": 22,
   "metadata": {},
   "outputs": [
    {
     "data": {
      "text/html": [
       "<div>\n",
       "<style scoped>\n",
       "    .dataframe tbody tr th:only-of-type {\n",
       "        vertical-align: middle;\n",
       "    }\n",
       "\n",
       "    .dataframe tbody tr th {\n",
       "        vertical-align: top;\n",
       "    }\n",
       "\n",
       "    .dataframe thead th {\n",
       "        text-align: right;\n",
       "    }\n",
       "</style>\n",
       "<table border=\"1\" class=\"dataframe\">\n",
       "  <thead>\n",
       "    <tr style=\"text-align: right;\">\n",
       "      <th></th>\n",
       "      <th>Recency</th>\n",
       "      <th>T</th>\n",
       "      <th>Frequency</th>\n",
       "      <th>Monetary</th>\n",
       "      <th>monetary_avg</th>\n",
       "    </tr>\n",
       "    <tr>\n",
       "      <th>Customer ID</th>\n",
       "      <th></th>\n",
       "      <th></th>\n",
       "      <th></th>\n",
       "      <th></th>\n",
       "      <th></th>\n",
       "    </tr>\n",
       "  </thead>\n",
       "  <tbody>\n",
       "    <tr>\n",
       "      <th>12346.00000</th>\n",
       "      <td>326</td>\n",
       "      <td>326</td>\n",
       "      <td>1</td>\n",
       "      <td>310.44000</td>\n",
       "      <td>310.44000</td>\n",
       "    </tr>\n",
       "    <tr>\n",
       "      <th>12347.00000</th>\n",
       "      <td>3</td>\n",
       "      <td>368</td>\n",
       "      <td>7</td>\n",
       "      <td>4310.00000</td>\n",
       "      <td>23.09700</td>\n",
       "    </tr>\n",
       "    <tr>\n",
       "      <th>12348.00000</th>\n",
       "      <td>76</td>\n",
       "      <td>359</td>\n",
       "      <td>4</td>\n",
       "      <td>1770.78000</td>\n",
       "      <td>66.01550</td>\n",
       "    </tr>\n",
       "    <tr>\n",
       "      <th>12349.00000</th>\n",
       "      <td>19</td>\n",
       "      <td>19</td>\n",
       "      <td>1</td>\n",
       "      <td>1491.72000</td>\n",
       "      <td>20.43452</td>\n",
       "    </tr>\n",
       "    <tr>\n",
       "      <th>12350.00000</th>\n",
       "      <td>311</td>\n",
       "      <td>311</td>\n",
       "      <td>1</td>\n",
       "      <td>331.46000</td>\n",
       "      <td>19.49765</td>\n",
       "    </tr>\n",
       "  </tbody>\n",
       "</table>\n",
       "</div>"
      ],
      "text/plain": [
       "             Recency    T  Frequency   Monetary  monetary_avg\n",
       "Customer ID                                                  \n",
       "12346.00000      326  326          1  310.44000     310.44000\n",
       "12347.00000        3  368          7 4310.00000      23.09700\n",
       "12348.00000       76  359          4 1770.78000      66.01550\n",
       "12349.00000       19   19          1 1491.72000      20.43452\n",
       "12350.00000      311  311          1  331.46000      19.49765"
      ]
     },
     "execution_count": 22,
     "metadata": {},
     "output_type": "execute_result"
    }
   ],
   "source": [
    "rfm = rfm.merge(temp_df2, how=\"left\", on=\"Customer ID\")\n",
    "rfm.set_index(\"Customer ID\", inplace=True)\n",
    "rfm.head()"
   ]
  },
  {
   "cell_type": "code",
   "execution_count": 26,
   "metadata": {},
   "outputs": [
    {
     "data": {
      "text/html": [
       "<div>\n",
       "<style scoped>\n",
       "    .dataframe tbody tr th:only-of-type {\n",
       "        vertical-align: middle;\n",
       "    }\n",
       "\n",
       "    .dataframe tbody tr th {\n",
       "        vertical-align: top;\n",
       "    }\n",
       "\n",
       "    .dataframe thead th {\n",
       "        text-align: right;\n",
       "    }\n",
       "</style>\n",
       "<table border=\"1\" class=\"dataframe\">\n",
       "  <thead>\n",
       "    <tr style=\"text-align: right;\">\n",
       "      <th></th>\n",
       "      <th>Recency</th>\n",
       "      <th>T</th>\n",
       "      <th>Frequency</th>\n",
       "      <th>Monetary</th>\n",
       "      <th>monetary_avg</th>\n",
       "      <th>Recency_weekly</th>\n",
       "      <th>T_weekly</th>\n",
       "    </tr>\n",
       "    <tr>\n",
       "      <th>Customer ID</th>\n",
       "      <th></th>\n",
       "      <th></th>\n",
       "      <th></th>\n",
       "      <th></th>\n",
       "      <th></th>\n",
       "      <th></th>\n",
       "      <th></th>\n",
       "    </tr>\n",
       "  </thead>\n",
       "  <tbody>\n",
       "    <tr>\n",
       "      <th>12346</th>\n",
       "      <td>326</td>\n",
       "      <td>326</td>\n",
       "      <td>1</td>\n",
       "      <td>310.44000</td>\n",
       "      <td>310.44000</td>\n",
       "      <td>46.57143</td>\n",
       "      <td>46.57143</td>\n",
       "    </tr>\n",
       "    <tr>\n",
       "      <th>12347</th>\n",
       "      <td>3</td>\n",
       "      <td>368</td>\n",
       "      <td>7</td>\n",
       "      <td>4310.00000</td>\n",
       "      <td>23.09700</td>\n",
       "      <td>0.42857</td>\n",
       "      <td>52.57143</td>\n",
       "    </tr>\n",
       "    <tr>\n",
       "      <th>12348</th>\n",
       "      <td>76</td>\n",
       "      <td>359</td>\n",
       "      <td>4</td>\n",
       "      <td>1770.78000</td>\n",
       "      <td>66.01550</td>\n",
       "      <td>10.85714</td>\n",
       "      <td>51.28571</td>\n",
       "    </tr>\n",
       "    <tr>\n",
       "      <th>12349</th>\n",
       "      <td>19</td>\n",
       "      <td>19</td>\n",
       "      <td>1</td>\n",
       "      <td>1491.72000</td>\n",
       "      <td>20.43452</td>\n",
       "      <td>2.71429</td>\n",
       "      <td>2.71429</td>\n",
       "    </tr>\n",
       "    <tr>\n",
       "      <th>12350</th>\n",
       "      <td>311</td>\n",
       "      <td>311</td>\n",
       "      <td>1</td>\n",
       "      <td>331.46000</td>\n",
       "      <td>19.49765</td>\n",
       "      <td>44.42857</td>\n",
       "      <td>44.42857</td>\n",
       "    </tr>\n",
       "  </tbody>\n",
       "</table>\n",
       "</div>"
      ],
      "text/plain": [
       "             Recency    T  Frequency   Monetary  monetary_avg  Recency_weekly  \\\n",
       "Customer ID                                                                     \n",
       "12346            326  326          1  310.44000     310.44000        46.57143   \n",
       "12347              3  368          7 4310.00000      23.09700         0.42857   \n",
       "12348             76  359          4 1770.78000      66.01550        10.85714   \n",
       "12349             19   19          1 1491.72000      20.43452         2.71429   \n",
       "12350            311  311          1  331.46000      19.49765        44.42857   \n",
       "\n",
       "             T_weekly  \n",
       "Customer ID            \n",
       "12346        46.57143  \n",
       "12347        52.57143  \n",
       "12348        51.28571  \n",
       "12349         2.71429  \n",
       "12350        44.42857  "
      ]
     },
     "execution_count": 26,
     "metadata": {},
     "output_type": "execute_result"
    }
   ],
   "source": [
    "rfm.index = rfm.index.astype(int)\n",
    "rfm[\"Recency_weekly\"] = rfm[\"Recency\"] / 7\n",
    "rfm[\"T_weekly\"] = rfm[\"T\"] / 7\n",
    "rfm = rfm[(rfm['monetary_avg'] > 0)]\n",
    "rfm_cltv[\"Frequency\"] = rfm_cltv[\"Frequency\"].astype(int)\n",
    "rfm_cltv = rfm.copy()\n",
    "rfm_cltv.head()"
   ]
  },
  {
   "cell_type": "code",
   "execution_count": 27,
   "metadata": {},
   "outputs": [
    {
     "data": {
      "text/plain": [
       "<lifetimes.BetaGeoFitter: fitted with 4338 subjects, a: 1.52, alpha: 0.07, b: 5.69, r: 0.28>"
      ]
     },
     "execution_count": 27,
     "metadata": {},
     "output_type": "execute_result"
    }
   ],
   "source": [
    "# BG/NBD \n",
    "bgf = BetaGeoFitter(penalizer_coef=0.001)\n",
    "bgf.fit(rfm_cltv['Frequency'],\n",
    "        rfm_cltv['Recency_weekly'],\n",
    "        rfm_cltv['T_weekly'])"
   ]
  },
  {
   "cell_type": "code",
   "execution_count": 34,
   "metadata": {},
   "outputs": [
    {
     "data": {
      "text/plain": [
       "Customer ID\n",
       "16000   7.13233\n",
       "12713   5.10115\n",
       "15060   4.84868\n",
       "18139   4.81851\n",
       "13298   4.14386\n",
       "15520   4.14386\n",
       "14569   4.14386\n",
       "13436   4.14386\n",
       "15195   3.52802\n",
       "15471   3.52802\n",
       "dtype: float64"
      ]
     },
     "execution_count": 34,
     "metadata": {},
     "output_type": "execute_result"
    }
   ],
   "source": [
    "# Top 10 customer who will make the most purchases in 1 month\n",
    "bgf.conditional_expected_number_of_purchases_up_to_time(4,\n",
    "                                                        rfm_cltv['Frequency'],\n",
    "                                                        rfm_cltv['Recency_weekly'],\n",
    "                                                        rfm_cltv['T_weekly']).sort_values(ascending=False).head(10)"
   ]
  },
  {
   "cell_type": "code",
   "execution_count": 35,
   "metadata": {},
   "outputs": [
    {
     "data": {
      "text/html": [
       "<div>\n",
       "<style scoped>\n",
       "    .dataframe tbody tr th:only-of-type {\n",
       "        vertical-align: middle;\n",
       "    }\n",
       "\n",
       "    .dataframe tbody tr th {\n",
       "        vertical-align: top;\n",
       "    }\n",
       "\n",
       "    .dataframe thead th {\n",
       "        text-align: right;\n",
       "    }\n",
       "</style>\n",
       "<table border=\"1\" class=\"dataframe\">\n",
       "  <thead>\n",
       "    <tr style=\"text-align: right;\">\n",
       "      <th></th>\n",
       "      <th>Recency</th>\n",
       "      <th>T</th>\n",
       "      <th>Frequency</th>\n",
       "      <th>Monetary</th>\n",
       "      <th>monetary_avg</th>\n",
       "      <th>Recency_weekly</th>\n",
       "      <th>T_weekly</th>\n",
       "      <th>expected_number_of_purchases</th>\n",
       "    </tr>\n",
       "    <tr>\n",
       "      <th>Customer ID</th>\n",
       "      <th></th>\n",
       "      <th></th>\n",
       "      <th></th>\n",
       "      <th></th>\n",
       "      <th></th>\n",
       "      <th></th>\n",
       "      <th></th>\n",
       "      <th></th>\n",
       "    </tr>\n",
       "  </thead>\n",
       "  <tbody>\n",
       "    <tr>\n",
       "      <th>12346</th>\n",
       "      <td>326</td>\n",
       "      <td>326</td>\n",
       "      <td>1</td>\n",
       "      <td>310.44000</td>\n",
       "      <td>310.44000</td>\n",
       "      <td>46.57143</td>\n",
       "      <td>46.57143</td>\n",
       "      <td>0.08517</td>\n",
       "    </tr>\n",
       "    <tr>\n",
       "      <th>12347</th>\n",
       "      <td>3</td>\n",
       "      <td>368</td>\n",
       "      <td>7</td>\n",
       "      <td>4310.00000</td>\n",
       "      <td>23.09700</td>\n",
       "      <td>0.42857</td>\n",
       "      <td>52.57143</td>\n",
       "      <td>0.00000</td>\n",
       "    </tr>\n",
       "    <tr>\n",
       "      <th>12348</th>\n",
       "      <td>76</td>\n",
       "      <td>359</td>\n",
       "      <td>4</td>\n",
       "      <td>1770.78000</td>\n",
       "      <td>66.01550</td>\n",
       "      <td>10.85714</td>\n",
       "      <td>51.28571</td>\n",
       "      <td>0.00244</td>\n",
       "    </tr>\n",
       "    <tr>\n",
       "      <th>12349</th>\n",
       "      <td>19</td>\n",
       "      <td>19</td>\n",
       "      <td>1</td>\n",
       "      <td>1491.72000</td>\n",
       "      <td>20.43452</td>\n",
       "      <td>2.71429</td>\n",
       "      <td>2.71429</td>\n",
       "      <td>1.13720</td>\n",
       "    </tr>\n",
       "    <tr>\n",
       "      <th>12350</th>\n",
       "      <td>311</td>\n",
       "      <td>311</td>\n",
       "      <td>1</td>\n",
       "      <td>331.46000</td>\n",
       "      <td>19.49765</td>\n",
       "      <td>44.42857</td>\n",
       "      <td>44.42857</td>\n",
       "      <td>0.08919</td>\n",
       "    </tr>\n",
       "  </tbody>\n",
       "</table>\n",
       "</div>"
      ],
      "text/plain": [
       "             Recency    T  Frequency   Monetary  monetary_avg  Recency_weekly  \\\n",
       "Customer ID                                                                     \n",
       "12346            326  326          1  310.44000     310.44000        46.57143   \n",
       "12347              3  368          7 4310.00000      23.09700         0.42857   \n",
       "12348             76  359          4 1770.78000      66.01550        10.85714   \n",
       "12349             19   19          1 1491.72000      20.43452         2.71429   \n",
       "12350            311  311          1  331.46000      19.49765        44.42857   \n",
       "\n",
       "             T_weekly  expected_number_of_purchases  \n",
       "Customer ID                                          \n",
       "12346        46.57143                       0.08517  \n",
       "12347        52.57143                       0.00000  \n",
       "12348        51.28571                       0.00244  \n",
       "12349         2.71429                       1.13720  \n",
       "12350        44.42857                       0.08919  "
      ]
     },
     "execution_count": 35,
     "metadata": {},
     "output_type": "execute_result"
    }
   ],
   "source": [
    "rfm_cltv[\"expected_number_of_purchases\"] = bgf.predict(4,\n",
    "                                                       rfm_cltv['Frequency'],\n",
    "                                                       rfm_cltv['Recency_weekly'],\n",
    "                                                       rfm_cltv['T_weekly'])\n",
    "\n",
    "rfm_cltv.head()"
   ]
  },
  {
   "cell_type": "code",
   "execution_count": 36,
   "metadata": {},
   "outputs": [
    {
     "data": {
      "text/plain": [
       "883.6007950590689"
      ]
     },
     "execution_count": 36,
     "metadata": {},
     "output_type": "execute_result"
    }
   ],
   "source": [
    "# Total expected selling number in 1 month\n",
    "bgf.predict(4,\n",
    "            rfm_cltv['Frequency'],\n",
    "            rfm_cltv['Recency_weekly'],\n",
    "            rfm_cltv['T_weekly']).sum()"
   ]
  },
  {
   "cell_type": "code",
   "execution_count": 37,
   "metadata": {},
   "outputs": [
    {
     "data": {
      "text/plain": [
       "Customer ID\n",
       "12346   313.89978\n",
       "12347    23.56336\n",
       "12348    66.83891\n",
       "12349    23.69915\n",
       "12350    22.76164\n",
       "12352    23.05688\n",
       "12353    25.51585\n",
       "12354    21.87374\n",
       "12355    38.61312\n",
       "12356    39.49249\n",
       "dtype: float64"
      ]
     },
     "execution_count": 37,
     "metadata": {},
     "output_type": "execute_result"
    }
   ],
   "source": [
    "# Gamma Gamma\n",
    "ggf = GammaGammaFitter(penalizer_coef=0.01)\n",
    "ggf.fit(rfm_cltv['Frequency'], rfm_cltv['monetary_avg'])\n",
    "\n",
    "ggf.conditional_expected_average_profit(rfm_cltv['Frequency'],\n",
    "                                        rfm_cltv['monetary_avg']).head(10)"
   ]
  },
  {
   "cell_type": "code",
   "execution_count": 38,
   "metadata": {},
   "outputs": [
    {
     "data": {
      "text/plain": [
       "Customer ID\n",
       "16000   1188.52359\n",
       "16532   1123.69478\n",
       "15749    970.89486\n",
       "15098    853.82762\n",
       "15195    824.67825\n",
       "18102    634.92178\n",
       "13270    593.64789\n",
       "18080    568.96565\n",
       "17291    554.42152\n",
       "16698    530.14009\n",
       "dtype: float64"
      ]
     },
     "execution_count": 38,
     "metadata": {},
     "output_type": "execute_result"
    }
   ],
   "source": [
    "ggf.conditional_expected_average_profit(rfm_cltv['Frequency'],\n",
    "                                        rfm_cltv['monetary_avg']).sort_values(ascending=False).head(10)"
   ]
  },
  {
   "cell_type": "code",
   "execution_count": 39,
   "metadata": {},
   "outputs": [],
   "source": [
    "rfm_cltv[\"expected_average_profit\"] = ggf.conditional_expected_average_profit(rfm_cltv['Frequency'],\n",
    "                                                                              rfm_cltv['monetary_avg'])"
   ]
  },
  {
   "cell_type": "code",
   "execution_count": 44,
   "metadata": {},
   "outputs": [
    {
     "data": {
      "text/plain": [
       "Customer ID\n",
       "12346   82.21368\n",
       "12347    0.00000\n",
       "12348    0.49106\n",
       "12349   60.95285\n",
       "12350    6.23263\n",
       "Name: clv, dtype: float64"
      ]
     },
     "execution_count": 44,
     "metadata": {},
     "output_type": "execute_result"
    }
   ],
   "source": [
    "# BG-NBD & GAMMA GAMMA -> CLTV\n",
    "cltv = ggf.customer_lifetime_value(bgf,\n",
    "                                   rfm_cltv['Frequency'],\n",
    "                                   rfm_cltv['Recency_weekly'],\n",
    "                                   rfm_cltv['T_weekly'],\n",
    "                                   rfm_cltv['monetary_avg'],\n",
    "                                   time=3,  # 3 MONTHS\n",
    "                                   freq=\"W\",  # T's frequence info.\n",
    "                                   discount_rate=0.01)\n",
    "cltv.head()"
   ]
  },
  {
   "cell_type": "code",
   "execution_count": 45,
   "metadata": {},
   "outputs": [],
   "source": [
    "cltv = cltv.reset_index()"
   ]
  },
  {
   "cell_type": "code",
   "execution_count": 46,
   "metadata": {},
   "outputs": [
    {
     "data": {
      "text/html": [
       "<div>\n",
       "<style scoped>\n",
       "    .dataframe tbody tr th:only-of-type {\n",
       "        vertical-align: middle;\n",
       "    }\n",
       "\n",
       "    .dataframe tbody tr th {\n",
       "        vertical-align: top;\n",
       "    }\n",
       "\n",
       "    .dataframe thead th {\n",
       "        text-align: right;\n",
       "    }\n",
       "</style>\n",
       "<table border=\"1\" class=\"dataframe\">\n",
       "  <thead>\n",
       "    <tr style=\"text-align: right;\">\n",
       "      <th></th>\n",
       "      <th>Customer ID</th>\n",
       "      <th>Recency</th>\n",
       "      <th>T</th>\n",
       "      <th>Frequency</th>\n",
       "      <th>Monetary</th>\n",
       "      <th>monetary_avg</th>\n",
       "      <th>Recency_weekly</th>\n",
       "      <th>T_weekly</th>\n",
       "      <th>expected_number_of_purchases</th>\n",
       "      <th>expected_average_profit</th>\n",
       "      <th>clv</th>\n",
       "    </tr>\n",
       "  </thead>\n",
       "  <tbody>\n",
       "    <tr>\n",
       "      <th>0</th>\n",
       "      <td>12346</td>\n",
       "      <td>326</td>\n",
       "      <td>326</td>\n",
       "      <td>1</td>\n",
       "      <td>310.44000</td>\n",
       "      <td>310.44000</td>\n",
       "      <td>46.57143</td>\n",
       "      <td>46.57143</td>\n",
       "      <td>0.08517</td>\n",
       "      <td>313.89978</td>\n",
       "      <td>82.21368</td>\n",
       "    </tr>\n",
       "    <tr>\n",
       "      <th>1</th>\n",
       "      <td>12347</td>\n",
       "      <td>3</td>\n",
       "      <td>368</td>\n",
       "      <td>7</td>\n",
       "      <td>4310.00000</td>\n",
       "      <td>23.09700</td>\n",
       "      <td>0.42857</td>\n",
       "      <td>52.57143</td>\n",
       "      <td>0.00000</td>\n",
       "      <td>23.56336</td>\n",
       "      <td>0.00000</td>\n",
       "    </tr>\n",
       "    <tr>\n",
       "      <th>2</th>\n",
       "      <td>12348</td>\n",
       "      <td>76</td>\n",
       "      <td>359</td>\n",
       "      <td>4</td>\n",
       "      <td>1770.78000</td>\n",
       "      <td>66.01550</td>\n",
       "      <td>10.85714</td>\n",
       "      <td>51.28571</td>\n",
       "      <td>0.00244</td>\n",
       "      <td>66.83891</td>\n",
       "      <td>0.49106</td>\n",
       "    </tr>\n",
       "    <tr>\n",
       "      <th>3</th>\n",
       "      <td>12349</td>\n",
       "      <td>19</td>\n",
       "      <td>19</td>\n",
       "      <td>1</td>\n",
       "      <td>1491.72000</td>\n",
       "      <td>20.43452</td>\n",
       "      <td>2.71429</td>\n",
       "      <td>2.71429</td>\n",
       "      <td>1.13720</td>\n",
       "      <td>23.69915</td>\n",
       "      <td>60.95285</td>\n",
       "    </tr>\n",
       "    <tr>\n",
       "      <th>4</th>\n",
       "      <td>12350</td>\n",
       "      <td>311</td>\n",
       "      <td>311</td>\n",
       "      <td>1</td>\n",
       "      <td>331.46000</td>\n",
       "      <td>19.49765</td>\n",
       "      <td>44.42857</td>\n",
       "      <td>44.42857</td>\n",
       "      <td>0.08919</td>\n",
       "      <td>22.76164</td>\n",
       "      <td>6.23263</td>\n",
       "    </tr>\n",
       "  </tbody>\n",
       "</table>\n",
       "</div>"
      ],
      "text/plain": [
       "   Customer ID  Recency    T  Frequency   Monetary  monetary_avg  \\\n",
       "0        12346      326  326          1  310.44000     310.44000   \n",
       "1        12347        3  368          7 4310.00000      23.09700   \n",
       "2        12348       76  359          4 1770.78000      66.01550   \n",
       "3        12349       19   19          1 1491.72000      20.43452   \n",
       "4        12350      311  311          1  331.46000      19.49765   \n",
       "\n",
       "   Recency_weekly  T_weekly  expected_number_of_purchases  \\\n",
       "0        46.57143  46.57143                       0.08517   \n",
       "1         0.42857  52.57143                       0.00000   \n",
       "2        10.85714  51.28571                       0.00244   \n",
       "3         2.71429   2.71429                       1.13720   \n",
       "4        44.42857  44.42857                       0.08919   \n",
       "\n",
       "   expected_average_profit      clv  \n",
       "0                313.89978 82.21368  \n",
       "1                 23.56336  0.00000  \n",
       "2                 66.83891  0.49106  \n",
       "3                 23.69915 60.95285  \n",
       "4                 22.76164  6.23263  "
      ]
     },
     "execution_count": 46,
     "metadata": {},
     "output_type": "execute_result"
    }
   ],
   "source": [
    "rfm_cltv_final = rfm_cltv.merge(cltv, on=\"Customer ID\", how=\"left\")\n",
    "rfm_cltv_final.head()"
   ]
  }
 ],
 "metadata": {
  "kernelspec": {
   "display_name": "Python 3",
   "language": "python",
   "name": "python3"
  },
  "language_info": {
   "codemirror_mode": {
    "name": "ipython",
    "version": 3
   },
   "file_extension": ".py",
   "mimetype": "text/x-python",
   "name": "python",
   "nbconvert_exporter": "python",
   "pygments_lexer": "ipython3",
   "version": "3.8.5"
  }
 },
 "nbformat": 4,
 "nbformat_minor": 4
}
